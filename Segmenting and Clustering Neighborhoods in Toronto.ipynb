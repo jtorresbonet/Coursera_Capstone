{
    "cells": [
        {
            "cell_type": "markdown",
            "metadata": {
                "collapsed": true
            },
            "source": "<h1>Segmenting and Clustering Neighborhoods in Toronto</h1>"
        },
        {
            "cell_type": "markdown",
            "metadata": {},
            "source": "<h3> Part 1: Create the dataframe with the needed data </h3>"
        },
        {
            "cell_type": "code",
            "execution_count": 7,
            "metadata": {},
            "outputs": [
                {
                    "name": "stdout",
                    "output_type": "stream",
                    "text": "Libraries imported!\n"
                }
            ],
            "source": "#Importing libraries\nimport pandas as pd\nimport numpy as np\nfrom bs4 import BeautifulSoup\nimport requests\nprint(\"Libraries imported!\")"
        },
        {
            "cell_type": "code",
            "execution_count": 10,
            "metadata": {},
            "outputs": [
                {
                    "name": "stdout",
                    "output_type": "stream",
                    "text": "Page downloaded successfuly!\n"
                }
            ],
            "source": "#First lets download the page\npage = requests.get(\"https://en.wikipedia.org/wiki/List_of_postal_codes_of_Canada:_M\")\nif page.status_code == 200:\n    print('Page downloaded successfuly!')\nelse:\n    print('Page could not be downloaded');"
        },
        {
            "cell_type": "code",
            "execution_count": 23,
            "metadata": {},
            "outputs": [
                {
                    "name": "stdout",
                    "output_type": "stream",
                    "text": "Table found!\n"
                }
            ],
            "source": "#Lets acces the webpage and create the dataframe\nsoup = BeautifulSoup(page.content, 'html.parser');\n#Checking the code of the webpage, we can see it's a 'table' tag, in particular with the class 'wikitable sortable'\ntdata = soup.find_all('table', class_='wikitable sortable');\n#Let's make sure that's the only table available and we didn't extract uneeded tables.\nif len(tdata) == 1:\n    print('Table found!');\nelse:\n    print('More than one table has been found');"
        },
        {
            "cell_type": "code",
            "execution_count": 105,
            "metadata": {
                "collapsed": true
            },
            "outputs": [],
            "source": "    #Since that is the only table in the webpage with that tag and class, we can proceed to parse it as dataframe:\n    df = pd.read_html(str(tdata))[0];"
        },
        {
            "cell_type": "code",
            "execution_count": 106,
            "metadata": {
                "collapsed": true
            },
            "outputs": [
                {
                    "name": "stdout",
                    "output_type": "stream",
                    "text": "Rows with unassigned Boroughs have been deleted!\nUnassigned Neighbourhoods have been assigned their Borough!\nThere are not any duplicates!\n"
                },
                {
                    "data": {
                        "text/html": "<div>\n<style scoped>\n    .dataframe tbody tr th:only-of-type {\n        vertical-align: middle;\n    }\n\n    .dataframe tbody tr th {\n        vertical-align: top;\n    }\n\n    .dataframe thead th {\n        text-align: right;\n    }\n</style>\n<table border=\"1\" class=\"dataframe\">\n  <thead>\n    <tr style=\"text-align: right;\">\n      <th></th>\n      <th>Postal Code</th>\n      <th>Borough</th>\n      <th>Neighbourhood</th>\n    </tr>\n  </thead>\n  <tbody>\n    <tr>\n      <th>0</th>\n      <td>M3A</td>\n      <td>North York</td>\n      <td>Parkwoods</td>\n    </tr>\n    <tr>\n      <th>1</th>\n      <td>M4A</td>\n      <td>North York</td>\n      <td>Victoria Village</td>\n    </tr>\n    <tr>\n      <th>2</th>\n      <td>M5A</td>\n      <td>Downtown Toronto</td>\n      <td>Regent Park, Harbourfront</td>\n    </tr>\n    <tr>\n      <th>3</th>\n      <td>M6A</td>\n      <td>North York</td>\n      <td>Lawrence Manor, Lawrence Heights</td>\n    </tr>\n    <tr>\n      <th>4</th>\n      <td>M7A</td>\n      <td>Downtown Toronto</td>\n      <td>Queen's Park, Ontario Provincial Government</td>\n    </tr>\n  </tbody>\n</table>\n</div>",
                        "text/plain": "  Postal Code           Borough                                Neighbourhood\n0         M3A        North York                                    Parkwoods\n1         M4A        North York                             Victoria Village\n2         M5A  Downtown Toronto                    Regent Park, Harbourfront\n3         M6A        North York             Lawrence Manor, Lawrence Heights\n4         M7A  Downtown Toronto  Queen's Park, Ontario Provincial Government"
                    },
                    "execution_count": 106,
                    "metadata": {},
                    "output_type": "execute_result"
                }
            ],
            "source": "#Lets process the table as indicated in the exercise\n#First, let's delete the rows where the Bourough is 'Not assigned'\ndf.drop(df[df.Borough =='Not assigned'].index, inplace=True)\ndf.reset_index(drop=True, inplace=True);\nprint('Rows with unassigned Boroughs have been deleted!')\n#Let's assign the 'Not assigned' neighbourhoods where the Borough is informed\ndf['Neighbourhood'] = np.where(df['Neighbourhood'] == 'Not assigned', df['Borough'], df['Neighbourhood']);\nprint('Unassigned Neighbourhoods have been assigned their Borough!')\n#Last, let's check which postal codes have been duplicated by having multiple neighbourhoods, pertaining to the same borough:\ndf_grpd = df.groupby(['Postal Code', 'Borough']).count(); #We group the dataframe by postal code and borough, count the rows\ndf_grpd_dupl = df_grpd[df_grpd['Neighbourhood'] > 1]; #We look for those cases where count > 1\nif df_grpd_dupl.shape[0] > 0:\n    print('There are duplicates!')\nelse:\n    print('There are not any duplicates!')\ndf.head()"
        },
        {
            "cell_type": "code",
            "execution_count": 107,
            "metadata": {
                "collapsed": true
            },
            "outputs": [
                {
                    "name": "stdout",
                    "output_type": "stream",
                    "text": "The number of rows in our dataframe is 103\n"
                }
            ],
            "source": "#Once the table has been processed, we can calculate the number of rows:\nprint('The number of rows in our dataframe is', df.shape[0])"
        },
        {
            "cell_type": "markdown",
            "metadata": {},
            "source": "<h3> Part 2: Obtain the coordinates of the neighbourhoods: </h3>"
        },
        {
            "cell_type": "code",
            "execution_count": 101,
            "metadata": {
                "collapsed": true
            },
            "outputs": [],
            "source": "#So apparently I could not import the geocoder onto here\n#Therefore,I will just join the provided .csv to our dataframe\npostal_codes = pd.read_csv('https://ibm.box.com/shared/static/9afzr83pps4pwf2smjjcf1y5mvgb18rr.csv')"
        },
        {
            "cell_type": "code",
            "execution_count": 108,
            "metadata": {
                "collapsed": true
            },
            "outputs": [
                {
                    "data": {
                        "text/html": "<div>\n<style scoped>\n    .dataframe tbody tr th:only-of-type {\n        vertical-align: middle;\n    }\n\n    .dataframe tbody tr th {\n        vertical-align: top;\n    }\n\n    .dataframe thead th {\n        text-align: right;\n    }\n</style>\n<table border=\"1\" class=\"dataframe\">\n  <thead>\n    <tr style=\"text-align: right;\">\n      <th></th>\n      <th>Postal Code</th>\n      <th>Borough</th>\n      <th>Neighbourhood</th>\n      <th>Latitude</th>\n      <th>Longitude</th>\n    </tr>\n  </thead>\n  <tbody>\n    <tr>\n      <th>0</th>\n      <td>M3A</td>\n      <td>North York</td>\n      <td>Parkwoods</td>\n      <td>43.753259</td>\n      <td>-79.329656</td>\n    </tr>\n    <tr>\n      <th>1</th>\n      <td>M4A</td>\n      <td>North York</td>\n      <td>Victoria Village</td>\n      <td>43.725882</td>\n      <td>-79.315572</td>\n    </tr>\n    <tr>\n      <th>2</th>\n      <td>M5A</td>\n      <td>Downtown Toronto</td>\n      <td>Regent Park, Harbourfront</td>\n      <td>43.654260</td>\n      <td>-79.360636</td>\n    </tr>\n    <tr>\n      <th>3</th>\n      <td>M6A</td>\n      <td>North York</td>\n      <td>Lawrence Manor, Lawrence Heights</td>\n      <td>43.718518</td>\n      <td>-79.464763</td>\n    </tr>\n    <tr>\n      <th>4</th>\n      <td>M7A</td>\n      <td>Downtown Toronto</td>\n      <td>Queen's Park, Ontario Provincial Government</td>\n      <td>43.662301</td>\n      <td>-79.389494</td>\n    </tr>\n  </tbody>\n</table>\n</div>",
                        "text/plain": "  Postal Code           Borough                                Neighbourhood  \\\n0         M3A        North York                                    Parkwoods   \n1         M4A        North York                             Victoria Village   \n2         M5A  Downtown Toronto                    Regent Park, Harbourfront   \n3         M6A        North York             Lawrence Manor, Lawrence Heights   \n4         M7A  Downtown Toronto  Queen's Park, Ontario Provincial Government   \n\n    Latitude  Longitude  \n0  43.753259 -79.329656  \n1  43.725882 -79.315572  \n2  43.654260 -79.360636  \n3  43.718518 -79.464763  \n4  43.662301 -79.389494  "
                    },
                    "execution_count": 108,
                    "metadata": {},
                    "output_type": "execute_result"
                }
            ],
            "source": "#Now we are just gonna join our dataframe to the postal codes:\ndf = pd.merge(df, postal_codes, on='Postal Code', how='left');\ndf.head()"
        },
        {
            "cell_type": "markdown",
            "metadata": {},
            "source": "<h3> Part 3: Clustering the neighborhoods </h3>\n<h5> First we extract the boroughs pertaining to Toronto </h5>"
        },
        {
            "cell_type": "code",
            "execution_count": 124,
            "metadata": {
                "collapsed": true
            },
            "outputs": [
                {
                    "name": "stdout",
                    "output_type": "stream",
                    "text": "There are 39  different postal codes pertaining to Toronto Boroughs\n"
                }
            ],
            "source": "#We first extract the boroughs pertaining to Toronto:\ndf_Toronto = df[df['Borough'].str.contains('Toronto', regex=False)];\ndf_Toronto.reset_index(drop=True, inplace=True);\nprint('There are', df_Toronto.shape[0], ' different postal codes pertaining to Toronto Boroughs')"
        },
        {
            "cell_type": "markdown",
            "metadata": {},
            "source": "<h5>Then, we define the Foursquare credentials and write a function to obtain the categories of the top 100 venues in a radius of 500m </h5>"
        },
        {
            "cell_type": "code",
            "execution_count": 127,
            "metadata": {
                "collapsed": true
            },
            "outputs": [],
            "source": "#Define Foursquare credentials\nCLIENT_ID = '' # your Foursquare ID\nCLIENT_SECRET = '' # your Foursquare Secret\nVERSION = '20210101' # Foursquare API version\nLIMIT = 100 # A default Foursquare API limit value\nradius = 500;\n# Credentials deleted before uploading"
        },
        {
            "cell_type": "code",
            "execution_count": 131,
            "metadata": {
                "collapsed": true
            },
            "outputs": [],
            "source": "def getNearbyVenues(names, latitudes, longitudes, radius=500):\n    \n    venues_list=[]\n    for name, lat, lng in zip(names, latitudes, longitudes):\n        #print(name)\n            \n        # create the API request URL\n        url = 'https://api.foursquare.com/v2/venues/explore?&client_id={}&client_secret={}&v={}&ll={},{}&radius={}&limit={}'.format(\n            CLIENT_ID, \n            CLIENT_SECRET, \n            VERSION, \n            lat, \n            lng, \n            radius, \n            LIMIT)\n            \n        # make the GET request\n        results = requests.get(url).json()[\"response\"]['groups'][0]['items']\n        \n        # return only relevant information for each nearby venue\n        venues_list.append([(\n            name, \n            lat, \n            lng, \n            v['venue']['name'], \n            v['venue']['location']['lat'], \n            v['venue']['location']['lng'],  \n            v['venue']['categories'][0]['name']) for v in results])\n\n    nearby_venues = pd.DataFrame([item for venue_list in venues_list for item in venue_list])\n    nearby_venues.columns = ['Neighborhood', \n                  'Neighborhood Latitude', \n                  'Neighborhood Longitude', \n                  'Venue', \n                  'Venue Latitude', \n                  'Venue Longitude', \n                  'Venue Category']\n    \n    return(nearby_venues)"
        },
        {
            "cell_type": "code",
            "execution_count": 132,
            "metadata": {
                "collapsed": true
            },
            "outputs": [],
            "source": "toronto_venues = getNearbyVenues(names=df_Toronto['Neighbourhood'], latitudes=df_Toronto['Latitude'], longitudes=df_Toronto['Longitude']);"
        },
        {
            "cell_type": "markdown",
            "metadata": {},
            "source": "<h5>We can check how many venues did we obtain data from and how many venues per neighbourhood did we obtain</h5>"
        },
        {
            "cell_type": "code",
            "execution_count": 144,
            "metadata": {
                "collapsed": true
            },
            "outputs": [
                {
                    "name": "stdout",
                    "output_type": "stream",
                    "text": "The code returned 1624  venues!\nThere are 235 uniques categories!\n"
                },
                {
                    "data": {
                        "text/html": "<div>\n<style scoped>\n    .dataframe tbody tr th:only-of-type {\n        vertical-align: middle;\n    }\n\n    .dataframe tbody tr th {\n        vertical-align: top;\n    }\n\n    .dataframe thead th {\n        text-align: right;\n    }\n</style>\n<table border=\"1\" class=\"dataframe\">\n  <thead>\n    <tr style=\"text-align: right;\">\n      <th></th>\n      <th>Venue</th>\n    </tr>\n    <tr>\n      <th>Neighborhood</th>\n      <th></th>\n    </tr>\n  </thead>\n  <tbody>\n    <tr>\n      <th>Berczy Park</th>\n      <td>58</td>\n    </tr>\n    <tr>\n      <th>Brockton, Parkdale Village, Exhibition Place</th>\n      <td>22</td>\n    </tr>\n    <tr>\n      <th>Business reply mail Processing Centre, South Central Letter Processing Plant Toronto</th>\n      <td>17</td>\n    </tr>\n    <tr>\n      <th>CN Tower, King and Spadina, Railway Lands, Harbourfront West, Bathurst Quay, South Niagara, Island airport</th>\n      <td>16</td>\n    </tr>\n    <tr>\n      <th>Central Bay Street</th>\n      <td>65</td>\n    </tr>\n    <tr>\n      <th>Christie</th>\n      <td>16</td>\n    </tr>\n    <tr>\n      <th>Church and Wellesley</th>\n      <td>79</td>\n    </tr>\n    <tr>\n      <th>Commerce Court, Victoria Hotel</th>\n      <td>100</td>\n    </tr>\n    <tr>\n      <th>Davisville</th>\n      <td>38</td>\n    </tr>\n    <tr>\n      <th>Davisville North</th>\n      <td>9</td>\n    </tr>\n    <tr>\n      <th>Dufferin, Dovercourt Village</th>\n      <td>18</td>\n    </tr>\n    <tr>\n      <th>First Canadian Place, Underground city</th>\n      <td>100</td>\n    </tr>\n    <tr>\n      <th>Forest Hill North &amp; West, Forest Hill Road Park</th>\n      <td>5</td>\n    </tr>\n    <tr>\n      <th>Garden District, Ryerson</th>\n      <td>100</td>\n    </tr>\n    <tr>\n      <th>Harbourfront East, Union Station, Toronto Islands</th>\n      <td>100</td>\n    </tr>\n    <tr>\n      <th>High Park, The Junction South</th>\n      <td>24</td>\n    </tr>\n    <tr>\n      <th>India Bazaar, The Beaches West</th>\n      <td>18</td>\n    </tr>\n    <tr>\n      <th>Kensington Market, Chinatown, Grange Park</th>\n      <td>63</td>\n    </tr>\n    <tr>\n      <th>Lawrence Park</th>\n      <td>4</td>\n    </tr>\n    <tr>\n      <th>Little Portugal, Trinity</th>\n      <td>42</td>\n    </tr>\n    <tr>\n      <th>Moore Park, Summerhill East</th>\n      <td>4</td>\n    </tr>\n    <tr>\n      <th>North Toronto West, Lawrence Park</th>\n      <td>19</td>\n    </tr>\n    <tr>\n      <th>Parkdale, Roncesvalles</th>\n      <td>14</td>\n    </tr>\n    <tr>\n      <th>Queen's Park, Ontario Provincial Government</th>\n      <td>31</td>\n    </tr>\n    <tr>\n      <th>Regent Park, Harbourfront</th>\n      <td>46</td>\n    </tr>\n    <tr>\n      <th>Richmond, Adelaide, King</th>\n      <td>97</td>\n    </tr>\n    <tr>\n      <th>Rosedale</th>\n      <td>4</td>\n    </tr>\n    <tr>\n      <th>Roselawn</th>\n      <td>4</td>\n    </tr>\n    <tr>\n      <th>Runnymede, Swansea</th>\n      <td>35</td>\n    </tr>\n    <tr>\n      <th>St. James Town</th>\n      <td>78</td>\n    </tr>\n    <tr>\n      <th>St. James Town, Cabbagetown</th>\n      <td>46</td>\n    </tr>\n    <tr>\n      <th>Stn A PO Boxes</th>\n      <td>99</td>\n    </tr>\n    <tr>\n      <th>Studio District</th>\n      <td>37</td>\n    </tr>\n    <tr>\n      <th>Summerhill West, Rathnelly, South Hill, Forest Hill SE, Deer Park</th>\n      <td>14</td>\n    </tr>\n    <tr>\n      <th>The Annex, North Midtown, Yorkville</th>\n      <td>19</td>\n    </tr>\n    <tr>\n      <th>The Beaches</th>\n      <td>6</td>\n    </tr>\n    <tr>\n      <th>The Danforth West, Riverdale</th>\n      <td>43</td>\n    </tr>\n    <tr>\n      <th>Toronto Dominion Centre, Design Exchange</th>\n      <td>100</td>\n    </tr>\n    <tr>\n      <th>University of Toronto, Harbord</th>\n      <td>34</td>\n    </tr>\n  </tbody>\n</table>\n</div>",
                        "text/plain": "                                                    Venue\nNeighborhood                                             \nBerczy Park                                            58\nBrockton, Parkdale Village, Exhibition Place           22\nBusiness reply mail Processing Centre, South Ce...     17\nCN Tower, King and Spadina, Railway Lands, Harb...     16\nCentral Bay Street                                     65\nChristie                                               16\nChurch and Wellesley                                   79\nCommerce Court, Victoria Hotel                        100\nDavisville                                             38\nDavisville North                                        9\nDufferin, Dovercourt Village                           18\nFirst Canadian Place, Underground city                100\nForest Hill North & West, Forest Hill Road Park         5\nGarden District, Ryerson                              100\nHarbourfront East, Union Station, Toronto Islands     100\nHigh Park, The Junction South                          24\nIndia Bazaar, The Beaches West                         18\nKensington Market, Chinatown, Grange Park              63\nLawrence Park                                           4\nLittle Portugal, Trinity                               42\nMoore Park, Summerhill East                             4\nNorth Toronto West, Lawrence Park                      19\nParkdale, Roncesvalles                                 14\nQueen's Park, Ontario Provincial Government            31\nRegent Park, Harbourfront                              46\nRichmond, Adelaide, King                               97\nRosedale                                                4\nRoselawn                                                4\nRunnymede, Swansea                                     35\nSt. James Town                                         78\nSt. James Town, Cabbagetown                            46\nStn A PO Boxes                                         99\nStudio District                                        37\nSummerhill West, Rathnelly, South Hill, Forest ...     14\nThe Annex, North Midtown, Yorkville                    19\nThe Beaches                                             6\nThe Danforth West, Riverdale                           43\nToronto Dominion Centre, Design Exchange              100\nUniversity of Toronto, Harbord                         34"
                    },
                    "execution_count": 144,
                    "metadata": {},
                    "output_type": "execute_result"
                }
            ],
            "source": "print('The code returned', toronto_venues.shape[0],' venues!');\nprint('There are {} uniques categories!'.format(len(toronto_venues['Venue Category'].unique())))\ntoronto_venues[['Neighborhood', 'Venue']].groupby('Neighborhood').count()"
        },
        {
            "cell_type": "markdown",
            "metadata": {},
            "source": "<h5> Now let's create the new dataframe and display the frequency of occurrence in each neighbourhood"
        },
        {
            "cell_type": "code",
            "execution_count": 148,
            "metadata": {
                "collapsed": true
            },
            "outputs": [
                {
                    "data": {
                        "text/html": "<div>\n<style scoped>\n    .dataframe tbody tr th:only-of-type {\n        vertical-align: middle;\n    }\n\n    .dataframe tbody tr th {\n        vertical-align: top;\n    }\n\n    .dataframe thead th {\n        text-align: right;\n    }\n</style>\n<table border=\"1\" class=\"dataframe\">\n  <thead>\n    <tr style=\"text-align: right;\">\n      <th></th>\n      <th>Neighborhood</th>\n      <th>Yoga Studio</th>\n      <th>Adult Boutique</th>\n      <th>Airport</th>\n      <th>Airport Food Court</th>\n      <th>Airport Gate</th>\n      <th>Airport Lounge</th>\n      <th>Airport Service</th>\n      <th>Airport Terminal</th>\n      <th>American Restaurant</th>\n      <th>...</th>\n      <th>Theme Restaurant</th>\n      <th>Tibetan Restaurant</th>\n      <th>Toy / Game Store</th>\n      <th>Trail</th>\n      <th>Train Station</th>\n      <th>Vegetarian / Vegan Restaurant</th>\n      <th>Video Game Store</th>\n      <th>Vietnamese Restaurant</th>\n      <th>Wine Bar</th>\n      <th>Wine Shop</th>\n    </tr>\n  </thead>\n  <tbody>\n    <tr>\n      <th>0</th>\n      <td>Berczy Park</td>\n      <td>0.000000</td>\n      <td>0.0</td>\n      <td>0.0000</td>\n      <td>0.0000</td>\n      <td>0.0000</td>\n      <td>0.000</td>\n      <td>0.000</td>\n      <td>0.000</td>\n      <td>0.0</td>\n      <td>...</td>\n      <td>0.0</td>\n      <td>0.0</td>\n      <td>0.0</td>\n      <td>0.0</td>\n      <td>0.0</td>\n      <td>0.017241</td>\n      <td>0.0</td>\n      <td>0.0</td>\n      <td>0.000000</td>\n      <td>0.0</td>\n    </tr>\n    <tr>\n      <th>1</th>\n      <td>Brockton, Parkdale Village, Exhibition Place</td>\n      <td>0.000000</td>\n      <td>0.0</td>\n      <td>0.0000</td>\n      <td>0.0000</td>\n      <td>0.0000</td>\n      <td>0.000</td>\n      <td>0.000</td>\n      <td>0.000</td>\n      <td>0.0</td>\n      <td>...</td>\n      <td>0.0</td>\n      <td>0.0</td>\n      <td>0.0</td>\n      <td>0.0</td>\n      <td>0.0</td>\n      <td>0.000000</td>\n      <td>0.0</td>\n      <td>0.0</td>\n      <td>0.000000</td>\n      <td>0.0</td>\n    </tr>\n    <tr>\n      <th>2</th>\n      <td>Business reply mail Processing Centre, South C...</td>\n      <td>0.058824</td>\n      <td>0.0</td>\n      <td>0.0000</td>\n      <td>0.0000</td>\n      <td>0.0000</td>\n      <td>0.000</td>\n      <td>0.000</td>\n      <td>0.000</td>\n      <td>0.0</td>\n      <td>...</td>\n      <td>0.0</td>\n      <td>0.0</td>\n      <td>0.0</td>\n      <td>0.0</td>\n      <td>0.0</td>\n      <td>0.000000</td>\n      <td>0.0</td>\n      <td>0.0</td>\n      <td>0.000000</td>\n      <td>0.0</td>\n    </tr>\n    <tr>\n      <th>3</th>\n      <td>CN Tower, King and Spadina, Railway Lands, Har...</td>\n      <td>0.000000</td>\n      <td>0.0</td>\n      <td>0.0625</td>\n      <td>0.0625</td>\n      <td>0.0625</td>\n      <td>0.125</td>\n      <td>0.125</td>\n      <td>0.125</td>\n      <td>0.0</td>\n      <td>...</td>\n      <td>0.0</td>\n      <td>0.0</td>\n      <td>0.0</td>\n      <td>0.0</td>\n      <td>0.0</td>\n      <td>0.000000</td>\n      <td>0.0</td>\n      <td>0.0</td>\n      <td>0.000000</td>\n      <td>0.0</td>\n    </tr>\n    <tr>\n      <th>4</th>\n      <td>Central Bay Street</td>\n      <td>0.015385</td>\n      <td>0.0</td>\n      <td>0.0000</td>\n      <td>0.0000</td>\n      <td>0.0000</td>\n      <td>0.000</td>\n      <td>0.000</td>\n      <td>0.000</td>\n      <td>0.0</td>\n      <td>...</td>\n      <td>0.0</td>\n      <td>0.0</td>\n      <td>0.0</td>\n      <td>0.0</td>\n      <td>0.0</td>\n      <td>0.015385</td>\n      <td>0.0</td>\n      <td>0.0</td>\n      <td>0.015385</td>\n      <td>0.0</td>\n    </tr>\n  </tbody>\n</table>\n<p>5 rows \u00d7 235 columns</p>\n</div>",
                        "text/plain": "                                        Neighborhood  Yoga Studio  \\\n0                                        Berczy Park     0.000000   \n1       Brockton, Parkdale Village, Exhibition Place     0.000000   \n2  Business reply mail Processing Centre, South C...     0.058824   \n3  CN Tower, King and Spadina, Railway Lands, Har...     0.000000   \n4                                 Central Bay Street     0.015385   \n\n   Adult Boutique  Airport  Airport Food Court  Airport Gate  Airport Lounge  \\\n0             0.0   0.0000              0.0000        0.0000           0.000   \n1             0.0   0.0000              0.0000        0.0000           0.000   \n2             0.0   0.0000              0.0000        0.0000           0.000   \n3             0.0   0.0625              0.0625        0.0625           0.125   \n4             0.0   0.0000              0.0000        0.0000           0.000   \n\n   Airport Service  Airport Terminal  American Restaurant  ...  \\\n0            0.000             0.000                  0.0  ...   \n1            0.000             0.000                  0.0  ...   \n2            0.000             0.000                  0.0  ...   \n3            0.125             0.125                  0.0  ...   \n4            0.000             0.000                  0.0  ...   \n\n   Theme Restaurant  Tibetan Restaurant  Toy / Game Store  Trail  \\\n0               0.0                 0.0               0.0    0.0   \n1               0.0                 0.0               0.0    0.0   \n2               0.0                 0.0               0.0    0.0   \n3               0.0                 0.0               0.0    0.0   \n4               0.0                 0.0               0.0    0.0   \n\n   Train Station  Vegetarian / Vegan Restaurant  Video Game Store  \\\n0            0.0                       0.017241               0.0   \n1            0.0                       0.000000               0.0   \n2            0.0                       0.000000               0.0   \n3            0.0                       0.000000               0.0   \n4            0.0                       0.015385               0.0   \n\n   Vietnamese Restaurant  Wine Bar  Wine Shop  \n0                    0.0  0.000000        0.0  \n1                    0.0  0.000000        0.0  \n2                    0.0  0.000000        0.0  \n3                    0.0  0.000000        0.0  \n4                    0.0  0.015385        0.0  \n\n[5 rows x 235 columns]"
                    },
                    "execution_count": 148,
                    "metadata": {},
                    "output_type": "execute_result"
                }
            ],
            "source": "# one hot encoding\ntoronto_onehot = pd.get_dummies(toronto_venues[['Venue Category']], prefix=\"\", prefix_sep=\"\")\n\n# add neighborhood column back to dataframe\ntoronto_onehot['Neighborhood'] = toronto_venues['Neighborhood'] \n\n# move neighborhood column to the first column\nfixed_columns = [toronto_onehot.columns[-1]] + list(toronto_onehot.columns[:-1])\ntoronto_onehot = toronto_onehot[fixed_columns]\ntoronto_grouped = toronto_onehot.groupby('Neighborhood').mean().reset_index()\ntoronto_grouped.head()"
        },
        {
            "cell_type": "markdown",
            "metadata": {},
            "source": "<h5>Now let's create the new dataframe and display the top 10 venues for each neighborhood </h5>"
        },
        {
            "cell_type": "code",
            "execution_count": 149,
            "metadata": {
                "collapsed": true
            },
            "outputs": [],
            "source": "def return_most_common_venues(row, num_top_venues):\n    row_categories = row.iloc[1:]\n    row_categories_sorted = row_categories.sort_values(ascending=False)\n    \n    return row_categories_sorted.index.values[0:num_top_venues]"
        },
        {
            "cell_type": "code",
            "execution_count": 170,
            "metadata": {
                "collapsed": true
            },
            "outputs": [
                {
                    "data": {
                        "text/html": "<div>\n<style scoped>\n    .dataframe tbody tr th:only-of-type {\n        vertical-align: middle;\n    }\n\n    .dataframe tbody tr th {\n        vertical-align: top;\n    }\n\n    .dataframe thead th {\n        text-align: right;\n    }\n</style>\n<table border=\"1\" class=\"dataframe\">\n  <thead>\n    <tr style=\"text-align: right;\">\n      <th></th>\n      <th>Neighborhood</th>\n      <th>1st Most Common Venue</th>\n      <th>2nd Most Common Venue</th>\n      <th>3rd Most Common Venue</th>\n      <th>4th Most Common Venue</th>\n      <th>5th Most Common Venue</th>\n      <th>6th Most Common Venue</th>\n      <th>7th Most Common Venue</th>\n      <th>8th Most Common Venue</th>\n      <th>9th Most Common Venue</th>\n      <th>10th Most Common Venue</th>\n    </tr>\n  </thead>\n  <tbody>\n    <tr>\n      <th>0</th>\n      <td>Berczy Park</td>\n      <td>Coffee Shop</td>\n      <td>Cocktail Bar</td>\n      <td>Seafood Restaurant</td>\n      <td>Bakery</td>\n      <td>Cheese Shop</td>\n      <td>Farmers Market</td>\n      <td>Restaurant</td>\n      <td>Beer Bar</td>\n      <td>Basketball Stadium</td>\n      <td>Beach</td>\n    </tr>\n    <tr>\n      <th>1</th>\n      <td>Brockton, Parkdale Village, Exhibition Place</td>\n      <td>Caf\u00e9</td>\n      <td>Breakfast Spot</td>\n      <td>Coffee Shop</td>\n      <td>Furniture / Home Store</td>\n      <td>Burrito Place</td>\n      <td>Italian Restaurant</td>\n      <td>Stadium</td>\n      <td>Restaurant</td>\n      <td>Intersection</td>\n      <td>Bar</td>\n    </tr>\n    <tr>\n      <th>2</th>\n      <td>Business reply mail Processing Centre, South C...</td>\n      <td>Light Rail Station</td>\n      <td>Yoga Studio</td>\n      <td>Auto Workshop</td>\n      <td>Pizza Place</td>\n      <td>Comic Shop</td>\n      <td>Restaurant</td>\n      <td>Burrito Place</td>\n      <td>Brewery</td>\n      <td>Skate Park</td>\n      <td>Smoke Shop</td>\n    </tr>\n    <tr>\n      <th>3</th>\n      <td>CN Tower, King and Spadina, Railway Lands, Har...</td>\n      <td>Airport Terminal</td>\n      <td>Airport Lounge</td>\n      <td>Airport Service</td>\n      <td>Boutique</td>\n      <td>Coffee Shop</td>\n      <td>Plane</td>\n      <td>Boat or Ferry</td>\n      <td>Harbor / Marina</td>\n      <td>Rental Car Location</td>\n      <td>Airport Gate</td>\n    </tr>\n    <tr>\n      <th>4</th>\n      <td>Central Bay Street</td>\n      <td>Coffee Shop</td>\n      <td>Italian Restaurant</td>\n      <td>Sandwich Place</td>\n      <td>Caf\u00e9</td>\n      <td>Bubble Tea Shop</td>\n      <td>Salad Place</td>\n      <td>Thai Restaurant</td>\n      <td>Burger Joint</td>\n      <td>Yoga Studio</td>\n      <td>Korean Restaurant</td>\n    </tr>\n  </tbody>\n</table>\n</div>",
                        "text/plain": "                                        Neighborhood 1st Most Common Venue  \\\n0                                        Berczy Park           Coffee Shop   \n1       Brockton, Parkdale Village, Exhibition Place                  Caf\u00e9   \n2  Business reply mail Processing Centre, South C...    Light Rail Station   \n3  CN Tower, King and Spadina, Railway Lands, Har...      Airport Terminal   \n4                                 Central Bay Street           Coffee Shop   \n\n  2nd Most Common Venue 3rd Most Common Venue   4th Most Common Venue  \\\n0          Cocktail Bar    Seafood Restaurant                  Bakery   \n1        Breakfast Spot           Coffee Shop  Furniture / Home Store   \n2           Yoga Studio         Auto Workshop             Pizza Place   \n3        Airport Lounge       Airport Service                Boutique   \n4    Italian Restaurant        Sandwich Place                    Caf\u00e9   \n\n  5th Most Common Venue 6th Most Common Venue 7th Most Common Venue  \\\n0           Cheese Shop        Farmers Market            Restaurant   \n1         Burrito Place    Italian Restaurant               Stadium   \n2            Comic Shop            Restaurant         Burrito Place   \n3           Coffee Shop                 Plane         Boat or Ferry   \n4       Bubble Tea Shop           Salad Place       Thai Restaurant   \n\n  8th Most Common Venue 9th Most Common Venue 10th Most Common Venue  \n0              Beer Bar    Basketball Stadium                  Beach  \n1            Restaurant          Intersection                    Bar  \n2               Brewery            Skate Park             Smoke Shop  \n3       Harbor / Marina   Rental Car Location           Airport Gate  \n4          Burger Joint           Yoga Studio      Korean Restaurant  "
                    },
                    "execution_count": 170,
                    "metadata": {},
                    "output_type": "execute_result"
                }
            ],
            "source": "num_top_venues = 10\n\nindicators = ['st', 'nd', 'rd']\n\n# create columns according to number of top venues\ncolumns = ['Neighborhood']\nfor ind in np.arange(num_top_venues):\n    try:\n        columns.append('{}{} Most Common Venue'.format(ind+1, indicators[ind]))\n    except:\n        columns.append('{}th Most Common Venue'.format(ind+1))\n\n# create a new dataframe\nneighborhoods_venues_sorted = pd.DataFrame(columns=columns)\nneighborhoods_venues_sorted['Neighborhood'] = toronto_grouped['Neighborhood']\n\nfor ind in np.arange(toronto_grouped.shape[0]):\n    neighborhoods_venues_sorted.iloc[ind, 1:] = return_most_common_venues(toronto_grouped.iloc[ind, :], num_top_venues)\n\nneighborhoods_venues_sorted.head()"
        },
        {
            "cell_type": "markdown",
            "metadata": {},
            "source": "<h5>Run k-means to cluster the neighborhood</h5>"
        },
        {
            "cell_type": "code",
            "execution_count": 151,
            "metadata": {
                "collapsed": true
            },
            "outputs": [],
            "source": "from sklearn.cluster import KMeans\nimport matplotlib.pyplot as plt\n%matplotlib inline\n\ntoronto_grouped_clustering = toronto_grouped.drop('Neighborhood', 1);"
        },
        {
            "cell_type": "markdown",
            "metadata": {},
            "source": "<p> Let's actually find the optimal number of clusters using the elbow method </p>"
        },
        {
            "cell_type": "code",
            "execution_count": 154,
            "metadata": {
                "collapsed": true
            },
            "outputs": [
                {
                    "data": {
                        "image/png": "[encoded data removed]",
                        "text/plain": "<Figure size 1152x576 with 1 Axes>"
                    },
                    "metadata": {
                        "needs_background": "light"
                    },
                    "output_type": "display_data"
                }
            ],
            "source": "distortions = []\nK = range(1,15)\nfor k in K:\n    kmeanModel = KMeans(n_clusters=k)\n    kmeanModel.fit(toronto_grouped_clustering)\n    distortions.append(kmeanModel.inertia_)\n    \nplt.figure(figsize=(16,8))\nplt.plot(K, distortions, 'bx-')\nplt.xlabel('k')\nplt.ylabel('Distortion')\nplt.title('The Elbow Method showing the optimal k')\nplt.show()  "
        },
        {
            "cell_type": "markdown",
            "metadata": {},
            "source": "  <p> Not much of an elbow in this case... we will stick with k=5 since it was the same used in previous exercises </p>"
        },
        {
            "cell_type": "code",
            "execution_count": 155,
            "metadata": {
                "collapsed": true
            },
            "outputs": [
                {
                    "data": {
                        "text/plain": "array([4, 4, 4, 4, 4, 4, 4, 4, 4, 2], dtype=int32)"
                    },
                    "execution_count": 155,
                    "metadata": {},
                    "output_type": "execute_result"
                }
            ],
            "source": "kclusters =5;\nkmeans = KMeans(n_clusters=kclusters, random_state=0).fit(toronto_grouped_clustering);"
        },
        {
            "cell_type": "markdown",
            "metadata": {},
            "source": "<p> Let's create a new dataframe that includes the cluster as well as the top 10 venues for each neighborhood. </p>"
        },
        {
            "cell_type": "code",
            "execution_count": 177,
            "metadata": {},
            "outputs": [
                {
                    "data": {
                        "text/html": "<div>\n<style scoped>\n    .dataframe tbody tr th:only-of-type {\n        vertical-align: middle;\n    }\n\n    .dataframe tbody tr th {\n        vertical-align: top;\n    }\n\n    .dataframe thead th {\n        text-align: right;\n    }\n</style>\n<table border=\"1\" class=\"dataframe\">\n  <thead>\n    <tr style=\"text-align: right;\">\n      <th></th>\n      <th>Postal Code</th>\n      <th>Borough</th>\n      <th>Neighborhood</th>\n      <th>Latitude</th>\n      <th>Longitude</th>\n      <th>Cluster Labels</th>\n      <th>1st Most Common Venue</th>\n      <th>2nd Most Common Venue</th>\n      <th>3rd Most Common Venue</th>\n      <th>4th Most Common Venue</th>\n      <th>5th Most Common Venue</th>\n      <th>6th Most Common Venue</th>\n      <th>7th Most Common Venue</th>\n      <th>8th Most Common Venue</th>\n      <th>9th Most Common Venue</th>\n      <th>10th Most Common Venue</th>\n    </tr>\n  </thead>\n  <tbody>\n    <tr>\n      <th>0</th>\n      <td>M5A</td>\n      <td>Downtown Toronto</td>\n      <td>Regent Park, Harbourfront</td>\n      <td>43.654260</td>\n      <td>-79.360636</td>\n      <td>4</td>\n      <td>Coffee Shop</td>\n      <td>Bakery</td>\n      <td>Park</td>\n      <td>Pub</td>\n      <td>Caf\u00e9</td>\n      <td>Breakfast Spot</td>\n      <td>Theater</td>\n      <td>Electronics Store</td>\n      <td>Spa</td>\n      <td>Beer Store</td>\n    </tr>\n    <tr>\n      <th>1</th>\n      <td>M7A</td>\n      <td>Downtown Toronto</td>\n      <td>Queen's Park, Ontario Provincial Government</td>\n      <td>43.662301</td>\n      <td>-79.389494</td>\n      <td>4</td>\n      <td>Coffee Shop</td>\n      <td>Sushi Restaurant</td>\n      <td>Gym</td>\n      <td>Discount Store</td>\n      <td>Park</td>\n      <td>Mexican Restaurant</td>\n      <td>Japanese Restaurant</td>\n      <td>Italian Restaurant</td>\n      <td>Hobby Shop</td>\n      <td>Fried Chicken Joint</td>\n    </tr>\n    <tr>\n      <th>2</th>\n      <td>M5B</td>\n      <td>Downtown Toronto</td>\n      <td>Garden District, Ryerson</td>\n      <td>43.657162</td>\n      <td>-79.378937</td>\n      <td>4</td>\n      <td>Coffee Shop</td>\n      <td>Clothing Store</td>\n      <td>Caf\u00e9</td>\n      <td>Bubble Tea Shop</td>\n      <td>Hotel</td>\n      <td>Middle Eastern Restaurant</td>\n      <td>Japanese Restaurant</td>\n      <td>Cosmetics Shop</td>\n      <td>Italian Restaurant</td>\n      <td>Fast Food Restaurant</td>\n    </tr>\n    <tr>\n      <th>3</th>\n      <td>M5C</td>\n      <td>Downtown Toronto</td>\n      <td>St. James Town</td>\n      <td>43.651494</td>\n      <td>-79.375418</td>\n      <td>4</td>\n      <td>Coffee Shop</td>\n      <td>Caf\u00e9</td>\n      <td>Cocktail Bar</td>\n      <td>American Restaurant</td>\n      <td>Gym</td>\n      <td>Farmers Market</td>\n      <td>Creperie</td>\n      <td>Moroccan Restaurant</td>\n      <td>Department Store</td>\n      <td>Lingerie Store</td>\n    </tr>\n    <tr>\n      <th>4</th>\n      <td>M4E</td>\n      <td>East Toronto</td>\n      <td>The Beaches</td>\n      <td>43.676357</td>\n      <td>-79.293031</td>\n      <td>4</td>\n      <td>Asian Restaurant</td>\n      <td>Coffee Shop</td>\n      <td>Health Food Store</td>\n      <td>Trail</td>\n      <td>Pub</td>\n      <td>Dog Run</td>\n      <td>Dessert Shop</td>\n      <td>Diner</td>\n      <td>Discount Store</td>\n      <td>Distribution Center</td>\n    </tr>\n  </tbody>\n</table>\n</div>",
                        "text/plain": "  Postal Code           Borough                                 Neighborhood  \\\n0         M5A  Downtown Toronto                    Regent Park, Harbourfront   \n1         M7A  Downtown Toronto  Queen's Park, Ontario Provincial Government   \n2         M5B  Downtown Toronto                     Garden District, Ryerson   \n3         M5C  Downtown Toronto                               St. James Town   \n4         M4E      East Toronto                                  The Beaches   \n\n    Latitude  Longitude  Cluster Labels 1st Most Common Venue  \\\n0  43.654260 -79.360636               4           Coffee Shop   \n1  43.662301 -79.389494               4           Coffee Shop   \n2  43.657162 -79.378937               4           Coffee Shop   \n3  43.651494 -79.375418               4           Coffee Shop   \n4  43.676357 -79.293031               4      Asian Restaurant   \n\n  2nd Most Common Venue 3rd Most Common Venue 4th Most Common Venue  \\\n0                Bakery                  Park                   Pub   \n1      Sushi Restaurant                   Gym        Discount Store   \n2        Clothing Store                  Caf\u00e9       Bubble Tea Shop   \n3                  Caf\u00e9          Cocktail Bar   American Restaurant   \n4           Coffee Shop     Health Food Store                 Trail   \n\n  5th Most Common Venue      6th Most Common Venue 7th Most Common Venue  \\\n0                  Caf\u00e9             Breakfast Spot               Theater   \n1                  Park         Mexican Restaurant   Japanese Restaurant   \n2                 Hotel  Middle Eastern Restaurant   Japanese Restaurant   \n3                   Gym             Farmers Market              Creperie   \n4                   Pub                    Dog Run          Dessert Shop   \n\n  8th Most Common Venue 9th Most Common Venue 10th Most Common Venue  \n0     Electronics Store                   Spa             Beer Store  \n1    Italian Restaurant            Hobby Shop    Fried Chicken Joint  \n2        Cosmetics Shop    Italian Restaurant   Fast Food Restaurant  \n3   Moroccan Restaurant      Department Store         Lingerie Store  \n4                 Diner        Discount Store    Distribution Center  "
                    },
                    "execution_count": 177,
                    "metadata": {},
                    "output_type": "execute_result"
                }
            ],
            "source": "# add clustering labels\nneighborhoods_venues_sorted.insert(0, 'Cluster Labels', kmeans.labels_)\n\ntoronto_merged = df_Toronto\ntoronto_merged= toronto_merged.rename(columns={\"Neighbourhood\": \"Neighborhood\"})\n# merge manhattan_grouped with manhattan_data to add latitude/longitude for each neighborhood\ntoronto_merged = toronto_merged.join(neighborhoods_venues_sorted.set_index('Neighborhood'), on='Neighborhood')\n\ntoronto_merged.head() # check the last columns!"
        },
        {
            "cell_type": "markdown",
            "metadata": {},
            "source": "<p> We can check the clusters in the following cell </p>"
        },
        {
            "cell_type": "code",
            "execution_count": 178,
            "metadata": {},
            "outputs": [
                {
                    "data": {
                        "text/html": "<div>\n<style scoped>\n    .dataframe tbody tr th:only-of-type {\n        vertical-align: middle;\n    }\n\n    .dataframe tbody tr th {\n        vertical-align: top;\n    }\n\n    .dataframe thead th {\n        text-align: right;\n    }\n</style>\n<table border=\"1\" class=\"dataframe\">\n  <thead>\n    <tr style=\"text-align: right;\">\n      <th></th>\n      <th>Postal Code</th>\n      <th>Borough</th>\n      <th>Neighborhood</th>\n      <th>Cluster Labels</th>\n    </tr>\n  </thead>\n  <tbody>\n    <tr>\n      <th>0</th>\n      <td>M5A</td>\n      <td>Downtown Toronto</td>\n      <td>Regent Park, Harbourfront</td>\n      <td>4</td>\n    </tr>\n    <tr>\n      <th>1</th>\n      <td>M7A</td>\n      <td>Downtown Toronto</td>\n      <td>Queen's Park, Ontario Provincial Government</td>\n      <td>4</td>\n    </tr>\n    <tr>\n      <th>2</th>\n      <td>M5B</td>\n      <td>Downtown Toronto</td>\n      <td>Garden District, Ryerson</td>\n      <td>4</td>\n    </tr>\n    <tr>\n      <th>3</th>\n      <td>M5C</td>\n      <td>Downtown Toronto</td>\n      <td>St. James Town</td>\n      <td>4</td>\n    </tr>\n    <tr>\n      <th>4</th>\n      <td>M4E</td>\n      <td>East Toronto</td>\n      <td>The Beaches</td>\n      <td>4</td>\n    </tr>\n  </tbody>\n</table>\n</div>",
                        "text/plain": "  Postal Code           Borough                                 Neighborhood  \\\n0         M5A  Downtown Toronto                    Regent Park, Harbourfront   \n1         M7A  Downtown Toronto  Queen's Park, Ontario Provincial Government   \n2         M5B  Downtown Toronto                     Garden District, Ryerson   \n3         M5C  Downtown Toronto                               St. James Town   \n4         M4E      East Toronto                                  The Beaches   \n\n   Cluster Labels  \n0               4  \n1               4  \n2               4  \n3               4  \n4               4  "
                    },
                    "execution_count": 178,
                    "metadata": {},
                    "output_type": "execute_result"
                }
            ],
            "source": "toronto_merged[['Postal Code', 'Borough', 'Neighborhood', 'Cluster Labels']].head()"
        },
        {
            "cell_type": "markdown",
            "metadata": {},
            "source": "<p> Finally, let's visualize the resulting clusters </p>"
        },
        {
            "cell_type": "code",
            "execution_count": 179,
            "metadata": {},
            "outputs": [],
            "source": "#!conda install -c conda-forge folium=0.5.0 --yes # uncomment this line if you haven't completed the Foursquare API lab\n#import folium"
        },
        {
            "cell_type": "code",
            "execution_count": null,
            "metadata": {
                "collapsed": true
            },
            "outputs": [],
            "source": "# create map\nmap_clusters = folium.Map(location=[latitude, longitude], zoom_start=11)\n\n# set color scheme for the clusters\nx = np.arange(kclusters)\nys = [i + x + (i*x)**2 for i in range(kclusters)]\ncolors_array = cm.rainbow(np.linspace(0, 1, len(ys)))\nrainbow = [colors.rgb2hex(i) for i in colors_array]\n\n# add markers to the map\nmarkers_colors = []\nfor lat, lon, poi, cluster in zip(toronto_merged['Latitude'], toronto_merged['Longitude'], toronto_merged['Neighborhood'], toronto_merged['Cluster Labels']):\n    label = folium.Popup(str(poi) + ' Cluster ' + str(cluster), parse_html=True)\n    folium.CircleMarker(\n        [lat, lon],\n        radius=5,\n        popup=label,\n        color=rainbow[cluster-1],\n        fill=True,\n        fill_color=rainbow[cluster-1],\n        fill_opacity=0.7).add_to(map_clusters)\n       \nmap_clusters"
        },
        {
            "cell_type": "markdown",
            "metadata": {},
            "source": "<h3> So apparently there is some error in importing folium... the code is correct so place take it into account! </h3>"
        },
        {
            "cell_type": "code",
            "execution_count": null,
            "metadata": {},
            "outputs": [],
            "source": ""
        }
    ],
    "metadata": {
        "kernelspec": {
            "display_name": "Python 3.7",
            "language": "python",
            "name": "python3"
        },
        "language_info": {
            "codemirror_mode": {
                "name": "ipython",
                "version": 3
            },
            "file_extension": ".py",
            "mimetype": "text/x-python",
            "name": "python",
            "nbconvert_exporter": "python",
            "pygments_lexer": "ipython3",
            "version": "3.7.9"
        }
    },
    "nbformat": 4,
    "nbformat_minor": 1
}